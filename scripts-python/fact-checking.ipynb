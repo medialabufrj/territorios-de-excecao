{
 "cells": [
  {
   "cell_type": "markdown",
   "source": [
    "# Checagem de fatos\n",
    "\n",
    "Notebook para checagem de fatos e dados do projeto [Territórios de Exceção](https://documental.xyz/intervencao)"
   ],
   "metadata": {}
  },
  {
   "cell_type": "code",
   "execution_count": 1,
   "source": [
    "### Setup\n",
    "# !pip install -U pandas pandas-profiling\n",
    "import pandas as pd\n",
    "# from pandas_profiling import ProfileReport"
   ],
   "outputs": [],
   "metadata": {}
  },
  {
   "cell_type": "code",
   "execution_count": 4,
   "source": [
    "## Read the CSV\n",
    "df = pd.read_csv('../dados/op_helicopteros/op-helicopteros.csv')\n",
    "df.info()"
   ],
   "outputs": [
    {
     "output_type": "stream",
     "name": "stdout",
     "text": [
      "<class 'pandas.core.frame.DataFrame'>\n",
      "RangeIndex: 736 entries, 0 to 735\n",
      "Data columns (total 15 columns):\n",
      " #   Column          Non-Null Count  Dtype \n",
      "---  ------          --------------  ----- \n",
      " 0   data            736 non-null    object\n",
      " 1   disparo         736 non-null    int64 \n",
      " 2   cidade          736 non-null    object\n",
      " 3   bairro          631 non-null    object\n",
      " 4   cod_bairro      552 non-null    object\n",
      " 5   local           418 non-null    object\n",
      " 6   outras_regioes  157 non-null    object\n",
      " 7   fonte           736 non-null    object\n",
      " 8   fonte2          116 non-null    object\n",
      " 9   tipo_operacao   736 non-null    object\n",
      " 10  media_fonte     93 non-null     object\n",
      " 11  media_link      94 non-null     object\n",
      " 12  presenca_civil  170 non-null    object\n",
      " 13  presenca_pmerj  362 non-null    object\n",
      " 14  presenca_uniao  6 non-null      object\n",
      "dtypes: int64(1), object(14)\n",
      "memory usage: 86.4+ KB\n"
     ]
    }
   ],
   "metadata": {}
  },
  {
   "cell_type": "code",
   "execution_count": null,
   "source": [
    "## Fixing datatypes\n",
    "df['data'] = pd.to_datetime(df['data']) \n",
    "df['disparo'] = df['disparo'].astype('bool') \n",
    "df['cod_bairro'] = df['cod_bairro'].astype('str') \n",
    "\n",
    "df.info()"
   ],
   "outputs": [],
   "metadata": {}
  },
  {
   "cell_type": "code",
   "execution_count": 2,
   "source": [
    "# Statistical summary\n",
    "# ProfileReport(df, title='Territórios de exceção',html={'style':{'full_width':True}}).to_notebook_iframe()"
   ],
   "outputs": [],
   "metadata": {}
  },
  {
   "cell_type": "code",
   "execution_count": null,
   "source": [
    "### Annalysis\n",
    "# Total of police operations w/ helicopters between 2018 and 2019\n",
    "\n",
    "df_scope = df[\n",
    "    (df['data'] >= '2018-01-01') & \n",
    "    (df['data'] <= '2019-12-31') &\n",
    "    (df['cidade'] == 'Rio de Janeiro') & \n",
    "    # Remove all entries from Twitter with no neighbourhood identified\n",
    "    ~((df['cod_bairro'] == 'ND') & (df['fonte'] == 'Twitter'))\n",
    "            ]\n",
    "\n",
    "fact_1 = 'Nos anos de 2018 e 2019, identificamos ' + str(len(df_scope)) +  ' utilizações de aeronaves pelas forças policiais na cidade do Rio de Janeiro'\n",
    "\n",
    "print(fact_1)"
   ],
   "outputs": [],
   "metadata": {}
  },
  {
   "cell_type": "code",
   "execution_count": null,
   "source": [
    "## Within that scope, the total with clues of shootings from official helicopters\n",
    "\n",
    "df_scope_shooting = df_scope[(df_scope['disparo'] == 1)]\n",
    "\n",
    "fact_2 = 'Em ' +  str(len(df_scope_shooting)) + ' casos encontramos indícios de disparos a partir dos helicópteros.'\n",
    "\n",
    "print(fact_2)"
   ],
   "outputs": [],
   "metadata": {}
  },
  {
   "cell_type": "code",
   "execution_count": 9,
   "source": [
    "# Top neighbourhoods w/ helicopter shootings\n",
    "df_scope_shooting.groupby(\"bairro\")[\"data\"].count().sort_values(ascending=False).head(5)"
   ],
   "outputs": [
    {
     "output_type": "execute_result",
     "data": {
      "text/plain": [
       "bairro\n",
       "Maré                  8\n",
       "Cidade de Deus        7\n",
       "Senador Camará        5\n",
       "Complexo do Alemão    4\n",
       "Manguinhos            4\n",
       "Name: data, dtype: int64"
      ]
     },
     "metadata": {},
     "execution_count": 9
    }
   ],
   "metadata": {}
  },
  {
   "cell_type": "code",
   "execution_count": 10,
   "source": [
    "## Com base nos dados coletados, identificamos 415 ocasiões nos quais os helicópteros da\n",
    "## Polícia Civil ou Militar do Rio de Janeiro foram utilizados entre 2018 e 2019. \n",
    "## O Complexo da Maré é o bairro com mais registros (35), seguido da Cidade de Deus (32). \n",
    "df_scope.groupby(\"bairro\")[\"data\"].count().sort_values(ascending=False).head(5)"
   ],
   "outputs": [
    {
     "output_type": "execute_result",
     "data": {
      "text/plain": [
       "bairro\n",
       "Maré                  35\n",
       "Cidade de Deus        32\n",
       "Praça Seca            24\n",
       "Rocinha               17\n",
       "Complexo do Alemão    16\n",
       "Name: data, dtype: int64"
      ]
     },
     "metadata": {},
     "execution_count": 10
    }
   ],
   "metadata": {}
  },
  {
   "cell_type": "code",
   "execution_count": 67,
   "source": [
    "## De um total de X operações da Polícia Civil entre 2017 e 2019 com horário de início e término identificados\n",
    "## X delas (X%) começaram antes do meio-dia e X (X%) antes das 07h da manhã\n",
    "\n",
    "lai = pd.read_csv('../dados/op_helicopteros/lai/lai3075.csv')\n",
    "\n",
    "lai[\"hora_comeco\"] = pd.to_datetime(lai[\"HORA_INICIO\"])\n",
    "\n",
    "fact_3 = 'De um total de ' + str(len(lai)) + ' operações da Polícia Civil entre 2017 e 2019 com horário de início e término identificados, '\n",
    "\n",
    "print(fact_3)"
   ],
   "outputs": [
    {
     "output_type": "stream",
     "name": "stdout",
     "text": [
      "De um total de 84 operações da Polícia Civil entre 2017 e 2019 com horário de início e término identificados, \n"
     ]
    }
   ],
   "metadata": {}
  },
  {
   "cell_type": "code",
   "execution_count": 68,
   "source": [
    "## 40 delas (72%) ocorreram antes do meio-dia e 20 (36%) antes das 07h da manhã\n",
    "\n",
    "total_up_12pm = len(lai[(lai.hora_comeco <= '11:59:00')])\n",
    "total_up_7am = len(lai[(lai.hora_comeco <= '06:59:00')])\n",
    "\n",
    "total_up_12pm_percent = round((total_up_12pm/len(lai))*100)\n",
    "total_up_7am_percent = round((total_up_7am/len(lai))*100)\n",
    "\n",
    "fact_4 = str(total_up_12pm) +' delas ('+ str(total_up_12pm_percent) +'%) ocorreram antes do meio-dia e ' + str(total_up_7am) + ' ('+ str(total_up_7am_percent) +'%) antes das 07h da manhã'\n",
    "\n",
    "print(fact_3 + fact_4)"
   ],
   "outputs": [
    {
     "output_type": "stream",
     "name": "stdout",
     "text": [
      "De um total de 84 operações da Polícia Civil entre 2017 e 2019 com horário de início e término identificados, 49 delas (58%) ocorreram antes do meio-dia e 24 (29%) antes das 07h da manhã\n"
     ]
    }
   ],
   "metadata": {}
  },
  {
   "cell_type": "code",
   "execution_count": 74,
   "source": [
    "### Import datasets from Fogo Cruzado and PistaNews\n",
    "fcruzado = pd.read_csv('dados/FogoCruzado18-19-250706.csv')\n",
    "\n",
    "fcruzado.dtypes"
   ],
   "outputs": [
    {
     "output_type": "execute_result",
     "data": {
      "text/plain": [
       "id_ocorrencia                         int64\n",
       "local_ocorrencia                     object\n",
       "latitude_ocorrencia                 float64\n",
       "longitude_ocorrencia                float64\n",
       "data_ocorrencia                      object\n",
       "hora_ocorrencia                      object\n",
       "presen_agen_segur_ocorrencia          int64\n",
       "qtd_morto_civil_ocorrencia            int64\n",
       "qtd_morto_agen_segur_ocorrencia       int64\n",
       "qtd_ferido_civil_ocorrencia           int64\n",
       "qtd_ferido_agen_segur_ocorrencia      int64\n",
       "fonte_ocorrencia                      int64\n",
       "estado_id                             int64\n",
       "cidade_id                             int64\n",
       "nome_cidade                          object\n",
       "cod_ibge_cidade                       int64\n",
       "gentilico_cidade                     object\n",
       "populacao_cidade                      int64\n",
       "area_cidade                           int64\n",
       "densidade_demo_cidade               float64\n",
       "nome_estado                          object\n",
       "uf_estado                            object\n",
       "cod_ibge_estado                       int64\n",
       "dtype: object"
      ]
     },
     "metadata": {},
     "execution_count": 74
    }
   ],
   "metadata": {}
  },
  {
   "cell_type": "code",
   "execution_count": 75,
   "source": [
    "fcruzado['data_ocorrencia'] =  pd.to_datetime(fcruzado['data_ocorrencia']) \n",
    "\n",
    "fcruzado = fcruzado[(fcruzado['data_ocorrencia'] >= '2018-01-01') \n",
    "                    & (fcruzado['data_ocorrencia'] <= '2019-12-31') & \n",
    "                    (fcruzado['presen_agen_segur_ocorrencia'] == 1)]"
   ],
   "outputs": [],
   "metadata": {}
  },
  {
   "cell_type": "code",
   "execution_count": 76,
   "source": [
    "# Import data about territorial dominance (PistaNews)\n",
    "\n",
    "import geopandas as gpd\n",
    "\n",
    "faccoes = gpd.read_file('geodados/faccoes.geojson')\n",
    "\n",
    "# faccoes.plot()\n",
    "\n",
    "# faccoes.dtypes"
   ],
   "outputs": [],
   "metadata": {}
  },
  {
   "cell_type": "code",
   "execution_count": 77,
   "source": [
    "# Import data about shootings (FogoCruzado)\n",
    "\n",
    "operacoes = gpd.GeoDataFrame(\n",
    "    fcruzado, geometry=gpd.points_from_xy(fcruzado.longitude_ocorrencia, fcruzado.latitude_ocorrencia),crs=\"EPSG:4326\")\n",
    "operacoes.crs\n",
    "\n",
    "len(operacoes)\n",
    "operacoes.plot()"
   ],
   "outputs": [
    {
     "output_type": "execute_result",
     "data": {
      "text/plain": [
       "<AxesSubplot:>"
      ]
     },
     "metadata": {},
     "execution_count": 77
    },
    {
     "output_type": "display_data",
     "data": {
      "image/png": "[encoded data removed]",
      "text/plain": [
       "<Figure size 432x288 with 1 Axes>"
      ]
     },
     "metadata": {
      "needs_background": "light"
     }
    }
   ],
   "metadata": {}
  },
  {
   "cell_type": "code",
   "execution_count": 78,
   "source": [
    "# Merge both geodata sources\n",
    "opfaccoes = gpd.sjoin(operacoes, faccoes, how=\"inner\", op='intersects')\n",
    "\n",
    "# opfaccoes.dtypes\n",
    "\n",
    "len(opfaccoes)\n",
    "opfaccoes.plot()"
   ],
   "outputs": [
    {
     "output_type": "execute_result",
     "data": {
      "text/plain": [
       "<AxesSubplot:>"
      ]
     },
     "metadata": {},
     "execution_count": 78
    },
    {
     "output_type": "display_data",
     "data": {
      "image/png": "[encoded data removed]",
      "text/plain": [
       "<Figure size 432x288 with 1 Axes>"
      ]
     },
     "metadata": {
      "needs_background": "light"
     }
    }
   ],
   "metadata": {}
  },
  {
   "cell_type": "code",
   "execution_count": 79,
   "source": [
    "total_operacoes = pd.DataFrame(opfaccoes.groupby(\"layer\")[\"presen_agen_segur_ocorrencia\"].\n",
    "                               count().sort_values(ascending=False).head(5))\n",
    "\n",
    "total_operacoes"
   ],
   "outputs": [
    {
     "output_type": "execute_result",
     "data": {
      "text/html": [
       "<div>\n",
       "<style scoped>\n",
       "    .dataframe tbody tr th:only-of-type {\n",
       "        vertical-align: middle;\n",
       "    }\n",
       "\n",
       "    .dataframe tbody tr th {\n",
       "        vertical-align: top;\n",
       "    }\n",
       "\n",
       "    .dataframe thead th {\n",
       "        text-align: right;\n",
       "    }\n",
       "</style>\n",
       "<table border=\"1\" class=\"dataframe\">\n",
       "  <thead>\n",
       "    <tr style=\"text-align: right;\">\n",
       "      <th></th>\n",
       "      <th>presen_agen_segur_ocorrencia</th>\n",
       "    </tr>\n",
       "    <tr>\n",
       "      <th>layer</th>\n",
       "      <th></th>\n",
       "    </tr>\n",
       "  </thead>\n",
       "  <tbody>\n",
       "    <tr>\n",
       "      <th>CV</th>\n",
       "      <td>1044</td>\n",
       "    </tr>\n",
       "    <tr>\n",
       "      <th>TCP</th>\n",
       "      <td>281</td>\n",
       "    </tr>\n",
       "    <tr>\n",
       "      <th>MIL</th>\n",
       "      <td>115</td>\n",
       "    </tr>\n",
       "    <tr>\n",
       "      <th>ADA</th>\n",
       "      <td>30</td>\n",
       "    </tr>\n",
       "  </tbody>\n",
       "</table>\n",
       "</div>"
      ],
      "text/plain": [
       "       presen_agen_segur_ocorrencia\n",
       "layer                              \n",
       "CV                             1044\n",
       "TCP                             281\n",
       "MIL                             115\n",
       "ADA                              30"
      ]
     },
     "metadata": {},
     "execution_count": 79
    }
   ],
   "metadata": {}
  },
  {
   "cell_type": "code",
   "execution_count": 80,
   "source": [
    "# Calculate area per squared kilometers\n",
    "faccoes[\"area_por_km2\"] = faccoes['geometry'].to_crs({'init': 'epsg:3395'})\\\n",
    "               .map(lambda p: p.area / 10**6)\n",
    "\n",
    "total_faccoes = pd.DataFrame(faccoes.groupby(\"layer\")[\"area_por_km2\"].sum().sort_values(ascending=False).head(5))\n",
    "\n",
    "faccoes.sort_values(by='area_por_km2',ascending=False).head(5)"
   ],
   "outputs": [
    {
     "output_type": "stream",
     "name": "stderr",
     "text": [
      "/usr/lib/python3/dist-packages/pyproj/crs/crs.py:55: FutureWarning: '+init=<authority>:<code>' syntax is deprecated. '<authority>:<code>' is the preferred initialization method. When making the change, be mindful of axis order changes: https://pyproj4.github.io/pyproj/stable/gotchas.html#axis-order-changes-in-proj-6\n",
      "  return _prepare_from_string(\" \".join(pjargs))\n"
     ]
    },
    {
     "output_type": "execute_result",
     "data": {
      "text/html": [
       "<div>\n",
       "<style scoped>\n",
       "    .dataframe tbody tr th:only-of-type {\n",
       "        vertical-align: middle;\n",
       "    }\n",
       "\n",
       "    .dataframe tbody tr th {\n",
       "        vertical-align: top;\n",
       "    }\n",
       "\n",
       "    .dataframe thead th {\n",
       "        text-align: right;\n",
       "    }\n",
       "</style>\n",
       "<table border=\"1\" class=\"dataframe\">\n",
       "  <thead>\n",
       "    <tr style=\"text-align: right;\">\n",
       "      <th></th>\n",
       "      <th>Name</th>\n",
       "      <th>layer</th>\n",
       "      <th>geometry</th>\n",
       "      <th>area_por_km2</th>\n",
       "    </tr>\n",
       "  </thead>\n",
       "  <tbody>\n",
       "    <tr>\n",
       "      <th>12</th>\n",
       "      <td>COMPLEXO DO ALEMÃO E PENHA</td>\n",
       "      <td>CV</td>\n",
       "      <td>POLYGON ((-43.26613 -22.85561, -43.26770 -22.8...</td>\n",
       "      <td>12.849577</td>\n",
       "    </tr>\n",
       "    <tr>\n",
       "      <th>368</th>\n",
       "      <td>JESUÍTAS - SANTA CRUZ</td>\n",
       "      <td>MIL</td>\n",
       "      <td>POLYGON ((-43.63308 -22.88074, -43.63477 -22.8...</td>\n",
       "      <td>12.261081</td>\n",
       "    </tr>\n",
       "    <tr>\n",
       "      <th>171</th>\n",
       "      <td>MILÍCIA POSSE/SANTÍSSIMO</td>\n",
       "      <td>MIL</td>\n",
       "      <td>POLYGON ((-43.54437 -22.88827, -43.52330 -22.8...</td>\n",
       "      <td>10.421167</td>\n",
       "    </tr>\n",
       "    <tr>\n",
       "      <th>381</th>\n",
       "      <td>VARGEM GRANDE</td>\n",
       "      <td>MIL</td>\n",
       "      <td>POLYGON ((-43.51385 -23.01198, -43.51291 -23.0...</td>\n",
       "      <td>9.313475</td>\n",
       "    </tr>\n",
       "    <tr>\n",
       "      <th>311</th>\n",
       "      <td>SEPETIBA</td>\n",
       "      <td>MIL</td>\n",
       "      <td>POLYGON ((-43.70134 -22.95286, -43.70372 -22.9...</td>\n",
       "      <td>9.081099</td>\n",
       "    </tr>\n",
       "  </tbody>\n",
       "</table>\n",
       "</div>"
      ],
      "text/plain": [
       "                           Name layer  \\\n",
       "12   COMPLEXO DO ALEMÃO E PENHA    CV   \n",
       "368       JESUÍTAS - SANTA CRUZ   MIL   \n",
       "171    MILÍCIA POSSE/SANTÍSSIMO   MIL   \n",
       "381               VARGEM GRANDE   MIL   \n",
       "311                    SEPETIBA   MIL   \n",
       "\n",
       "                                              geometry  area_por_km2  \n",
       "12   POLYGON ((-43.26613 -22.85561, -43.26770 -22.8...     12.849577  \n",
       "368  POLYGON ((-43.63308 -22.88074, -43.63477 -22.8...     12.261081  \n",
       "171  POLYGON ((-43.54437 -22.88827, -43.52330 -22.8...     10.421167  \n",
       "381  POLYGON ((-43.51385 -23.01198, -43.51291 -23.0...      9.313475  \n",
       "311  POLYGON ((-43.70134 -22.95286, -43.70372 -22.9...      9.081099  "
      ]
     },
     "metadata": {},
     "execution_count": 80
    }
   ],
   "metadata": {}
  },
  {
   "cell_type": "code",
   "execution_count": 81,
   "source": [
    "## Em média, entre 2018 e 2019, foram identificadas 28 tiroteios com presença \n",
    "# de agentes oficiais por quilômetro quadrado em áreas do CV. \n",
    "## Em comparação, em áreas de milícia esta taxa foi de 0,6 por quilômetro quadrado. \n",
    "\n",
    "total_opfaccoes = pd.DataFrame.join(total_operacoes,total_faccoes)\n",
    "total_opfaccoes['tiro_per_km2'] = round(total_opfaccoes['presen_agen_segur_ocorrencia']/\n",
    "                                        total_opfaccoes['area_por_km2'],2)\n",
    "\n",
    "total_opfaccoes"
   ],
   "outputs": [
    {
     "output_type": "execute_result",
     "data": {
      "text/html": [
       "<div>\n",
       "<style scoped>\n",
       "    .dataframe tbody tr th:only-of-type {\n",
       "        vertical-align: middle;\n",
       "    }\n",
       "\n",
       "    .dataframe tbody tr th {\n",
       "        vertical-align: top;\n",
       "    }\n",
       "\n",
       "    .dataframe thead th {\n",
       "        text-align: right;\n",
       "    }\n",
       "</style>\n",
       "<table border=\"1\" class=\"dataframe\">\n",
       "  <thead>\n",
       "    <tr style=\"text-align: right;\">\n",
       "      <th></th>\n",
       "      <th>presen_agen_segur_ocorrencia</th>\n",
       "      <th>area_por_km2</th>\n",
       "      <th>tiro_per_km2</th>\n",
       "    </tr>\n",
       "    <tr>\n",
       "      <th>layer</th>\n",
       "      <th></th>\n",
       "      <th></th>\n",
       "      <th></th>\n",
       "    </tr>\n",
       "  </thead>\n",
       "  <tbody>\n",
       "    <tr>\n",
       "      <th>CV</th>\n",
       "      <td>1044</td>\n",
       "      <td>45.751177</td>\n",
       "      <td>22.82</td>\n",
       "    </tr>\n",
       "    <tr>\n",
       "      <th>TCP</th>\n",
       "      <td>281</td>\n",
       "      <td>25.500297</td>\n",
       "      <td>11.02</td>\n",
       "    </tr>\n",
       "    <tr>\n",
       "      <th>MIL</th>\n",
       "      <td>115</td>\n",
       "      <td>211.098588</td>\n",
       "      <td>0.54</td>\n",
       "    </tr>\n",
       "    <tr>\n",
       "      <th>ADA</th>\n",
       "      <td>30</td>\n",
       "      <td>3.952409</td>\n",
       "      <td>7.59</td>\n",
       "    </tr>\n",
       "  </tbody>\n",
       "</table>\n",
       "</div>"
      ],
      "text/plain": [
       "       presen_agen_segur_ocorrencia  area_por_km2  tiro_per_km2\n",
       "layer                                                          \n",
       "CV                             1044     45.751177         22.82\n",
       "TCP                             281     25.500297         11.02\n",
       "MIL                             115    211.098588          0.54\n",
       "ADA                              30      3.952409          7.59"
      ]
     },
     "metadata": {},
     "execution_count": 81
    }
   ],
   "metadata": {}
  },
  {
   "cell_type": "markdown",
   "source": [
    "# Homicídios decorrentes de intervenção policial\n",
    "\n",
    "> Em 2018, foram 1.534 mortes em decorrência de intervenção de agentes do Estado. Em 2019, novos recordes: 1.814 mortes ao longo do ano - quase 5 pessoas por dia, em média. Destas vítimas, 78% são jovens, pretos e pardos. \n",
    "\n",
    "https://g1.globo.com/rj/rio-de-janeiro/noticia/2020/06/06/pretos-e-pardos-sao-78percent-dos-mortos-em-acoes-policiais-no-rj-em-2019-e-o-negro-que-sofre-essa-inseguranca-diz-mae-de-agatha.ghtml\n",
    "\n",
    "https://g1.globo.com/rj/rio-de-janeiro/noticia/2019/09/11/rj-e-o-estado-onde-policia-mais-matou-em-2018.ghtml"
   ],
   "metadata": {}
  }
 ],
 "metadata": {
  "kernelspec": {
   "name": "python3",
   "display_name": "Python 3.9.5 64-bit"
  },
  "language_info": {
   "codemirror_mode": {
    "name": "ipython",
    "version": 3
   },
   "file_extension": ".py",
   "mimetype": "text/x-python",
   "name": "python",
   "nbconvert_exporter": "python",
   "pygments_lexer": "ipython3",
   "version": "3.9.5"
  },
  "interpreter": {
   "hash": "916dbcbb3f70747c44a77c7bcd40155683ae19c65e1c03b4aa3499c5328201f1"
  }
 },
 "nbformat": 4,
 "nbformat_minor": 4
}